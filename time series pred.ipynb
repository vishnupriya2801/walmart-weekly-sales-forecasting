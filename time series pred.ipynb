{
 "cells": [
  {
   "cell_type": "markdown",
   "metadata": {},
   "source": [
    "# Walmart sales forecasting prediction"
   ]
  },
  {
   "cell_type": "markdown",
   "metadata": {},
   "source": [
    " data from Walmart to forecast their weekly sales"
   ]
  },
  {
   "cell_type": "code",
   "execution_count": 170,
   "metadata": {},
   "outputs": [],
   "source": [
    "import os \n",
    "import pandas as pd\n",
    "import numpy as np\n",
    "from matplotlib import pyplot as plt\n",
    "%matplotlib inline\n",
    "import seaborn as sns\n",
    "from statsmodels.tsa.arima_model import ARIMA\n",
    "import re, datetime, time\n",
    "from sklearn.preprocessing import LabelEncoder\n",
    "from sklearn.preprocessing import OneHotEncoder"
   ]
  },
  {
   "cell_type": "code",
   "execution_count": 3,
   "metadata": {},
   "outputs": [
    {
     "data": {
      "text/plain": [
       "'/Users/vishnupriyakodavatiganti'"
      ]
     },
     "execution_count": 3,
     "metadata": {},
     "output_type": "execute_result"
    }
   ],
   "source": [
    "os.getcwd()"
   ]
  },
  {
   "cell_type": "code",
   "execution_count": 4,
   "metadata": {
    "collapsed": true
   },
   "outputs": [],
   "source": [
    "os.chdir('/Users/vishnupriyakodavatiganti/Desktop/Walmart')"
   ]
  },
  {
   "cell_type": "code",
   "execution_count": 362,
   "metadata": {},
   "outputs": [],
   "source": [
    "train=pd.read_csv('train.csv')\n",
    "len_train=len(train)\n",
    "test=pd.read_csv('test.csv')\n",
    "len_test=len(test)"
   ]
  },
  {
   "cell_type": "code",
   "execution_count": 299,
   "metadata": {},
   "outputs": [
    {
     "name": "stdout",
     "output_type": "stream",
     "text": [
      "139119 282451\n"
     ]
    }
   ],
   "source": [
    "#train.head()\n",
    "print(len_test,len_train)"
   ]
  },
  {
   "cell_type": "code",
   "execution_count": 300,
   "metadata": {},
   "outputs": [
    {
     "data": {
      "text/html": [
       "<div>\n",
       "<style>\n",
       "    .dataframe thead tr:only-child th {\n",
       "        text-align: right;\n",
       "    }\n",
       "\n",
       "    .dataframe thead th {\n",
       "        text-align: left;\n",
       "    }\n",
       "\n",
       "    .dataframe tbody tr th {\n",
       "        vertical-align: top;\n",
       "    }\n",
       "</style>\n",
       "<table border=\"1\" class=\"dataframe\">\n",
       "  <thead>\n",
       "    <tr style=\"text-align: right;\">\n",
       "      <th></th>\n",
       "      <th>Store</th>\n",
       "      <th>Dept</th>\n",
       "      <th>Weekly_Sales</th>\n",
       "      <th>Temperature</th>\n",
       "      <th>Fuel_Price</th>\n",
       "      <th>MarkDown1</th>\n",
       "      <th>MarkDown2</th>\n",
       "      <th>MarkDown3</th>\n",
       "      <th>MarkDown4</th>\n",
       "      <th>MarkDown5</th>\n",
       "      <th>CPI</th>\n",
       "      <th>Unemployment</th>\n",
       "      <th>Size</th>\n",
       "    </tr>\n",
       "  </thead>\n",
       "  <tbody>\n",
       "    <tr>\n",
       "      <th>count</th>\n",
       "      <td>282451.000000</td>\n",
       "      <td>282451.000000</td>\n",
       "      <td>282451.000000</td>\n",
       "      <td>282451.000000</td>\n",
       "      <td>282451.000000</td>\n",
       "      <td>100520.000000</td>\n",
       "      <td>74232.000000</td>\n",
       "      <td>91521.000000</td>\n",
       "      <td>90031.000000</td>\n",
       "      <td>101029.000000</td>\n",
       "      <td>282451.000000</td>\n",
       "      <td>282451.000000</td>\n",
       "      <td>282451.000000</td>\n",
       "    </tr>\n",
       "    <tr>\n",
       "      <th>mean</th>\n",
       "      <td>22.193166</td>\n",
       "      <td>44.286138</td>\n",
       "      <td>15983.429692</td>\n",
       "      <td>60.113640</td>\n",
       "      <td>3.360300</td>\n",
       "      <td>7246.077559</td>\n",
       "      <td>3318.408122</td>\n",
       "      <td>1417.397841</td>\n",
       "      <td>3379.591745</td>\n",
       "      <td>4639.476021</td>\n",
       "      <td>171.207802</td>\n",
       "      <td>7.968098</td>\n",
       "      <td>136730.073220</td>\n",
       "    </tr>\n",
       "    <tr>\n",
       "      <th>std</th>\n",
       "      <td>12.782138</td>\n",
       "      <td>30.503641</td>\n",
       "      <td>22661.092494</td>\n",
       "      <td>18.446485</td>\n",
       "      <td>0.458602</td>\n",
       "      <td>8254.606267</td>\n",
       "      <td>9485.575898</td>\n",
       "      <td>9547.858949</td>\n",
       "      <td>6269.428446</td>\n",
       "      <td>6060.459590</td>\n",
       "      <td>39.160808</td>\n",
       "      <td>1.868070</td>\n",
       "      <td>61002.319363</td>\n",
       "    </tr>\n",
       "    <tr>\n",
       "      <th>min</th>\n",
       "      <td>1.000000</td>\n",
       "      <td>1.000000</td>\n",
       "      <td>-4988.940000</td>\n",
       "      <td>-2.060000</td>\n",
       "      <td>2.472000</td>\n",
       "      <td>0.270000</td>\n",
       "      <td>-265.760000</td>\n",
       "      <td>-29.100000</td>\n",
       "      <td>0.220000</td>\n",
       "      <td>135.160000</td>\n",
       "      <td>126.064000</td>\n",
       "      <td>3.879000</td>\n",
       "      <td>34875.000000</td>\n",
       "    </tr>\n",
       "    <tr>\n",
       "      <th>25%</th>\n",
       "      <td>11.000000</td>\n",
       "      <td>18.000000</td>\n",
       "      <td>2079.330000</td>\n",
       "      <td>46.780000</td>\n",
       "      <td>2.932000</td>\n",
       "      <td>2241.190000</td>\n",
       "      <td>40.960000</td>\n",
       "      <td>5.060000</td>\n",
       "      <td>508.100000</td>\n",
       "      <td>1877.810000</td>\n",
       "      <td>132.022667</td>\n",
       "      <td>6.891000</td>\n",
       "      <td>93638.000000</td>\n",
       "    </tr>\n",
       "    <tr>\n",
       "      <th>50%</th>\n",
       "      <td>22.000000</td>\n",
       "      <td>38.000000</td>\n",
       "      <td>7616.550000</td>\n",
       "      <td>62.150000</td>\n",
       "      <td>3.452000</td>\n",
       "      <td>5363.520000</td>\n",
       "      <td>191.820000</td>\n",
       "      <td>24.340000</td>\n",
       "      <td>1482.030000</td>\n",
       "      <td>3364.410000</td>\n",
       "      <td>182.350989</td>\n",
       "      <td>7.866000</td>\n",
       "      <td>140167.000000</td>\n",
       "    </tr>\n",
       "    <tr>\n",
       "      <th>75%</th>\n",
       "      <td>33.000000</td>\n",
       "      <td>74.000000</td>\n",
       "      <td>20245.745000</td>\n",
       "      <td>74.290000</td>\n",
       "      <td>3.737000</td>\n",
       "      <td>9235.590000</td>\n",
       "      <td>1919.790000</td>\n",
       "      <td>103.130000</td>\n",
       "      <td>3607.570000</td>\n",
       "      <td>5563.800000</td>\n",
       "      <td>212.464799</td>\n",
       "      <td>8.572000</td>\n",
       "      <td>202505.000000</td>\n",
       "    </tr>\n",
       "    <tr>\n",
       "      <th>max</th>\n",
       "      <td>45.000000</td>\n",
       "      <td>99.000000</td>\n",
       "      <td>693099.360000</td>\n",
       "      <td>100.140000</td>\n",
       "      <td>4.468000</td>\n",
       "      <td>88646.760000</td>\n",
       "      <td>104519.540000</td>\n",
       "      <td>141630.610000</td>\n",
       "      <td>67474.850000</td>\n",
       "      <td>108519.280000</td>\n",
       "      <td>227.232807</td>\n",
       "      <td>14.313000</td>\n",
       "      <td>219622.000000</td>\n",
       "    </tr>\n",
       "  </tbody>\n",
       "</table>\n",
       "</div>"
      ],
      "text/plain": [
       "               Store           Dept   Weekly_Sales    Temperature  \\\n",
       "count  282451.000000  282451.000000  282451.000000  282451.000000   \n",
       "mean       22.193166      44.286138   15983.429692      60.113640   \n",
       "std        12.782138      30.503641   22661.092494      18.446485   \n",
       "min         1.000000       1.000000   -4988.940000      -2.060000   \n",
       "25%        11.000000      18.000000    2079.330000      46.780000   \n",
       "50%        22.000000      38.000000    7616.550000      62.150000   \n",
       "75%        33.000000      74.000000   20245.745000      74.290000   \n",
       "max        45.000000      99.000000  693099.360000     100.140000   \n",
       "\n",
       "          Fuel_Price      MarkDown1      MarkDown2      MarkDown3  \\\n",
       "count  282451.000000  100520.000000   74232.000000   91521.000000   \n",
       "mean        3.360300    7246.077559    3318.408122    1417.397841   \n",
       "std         0.458602    8254.606267    9485.575898    9547.858949   \n",
       "min         2.472000       0.270000    -265.760000     -29.100000   \n",
       "25%         2.932000    2241.190000      40.960000       5.060000   \n",
       "50%         3.452000    5363.520000     191.820000      24.340000   \n",
       "75%         3.737000    9235.590000    1919.790000     103.130000   \n",
       "max         4.468000   88646.760000  104519.540000  141630.610000   \n",
       "\n",
       "          MarkDown4      MarkDown5            CPI   Unemployment  \\\n",
       "count  90031.000000  101029.000000  282451.000000  282451.000000   \n",
       "mean    3379.591745    4639.476021     171.207802       7.968098   \n",
       "std     6269.428446    6060.459590      39.160808       1.868070   \n",
       "min        0.220000     135.160000     126.064000       3.879000   \n",
       "25%      508.100000    1877.810000     132.022667       6.891000   \n",
       "50%     1482.030000    3364.410000     182.350989       7.866000   \n",
       "75%     3607.570000    5563.800000     212.464799       8.572000   \n",
       "max    67474.850000  108519.280000     227.232807      14.313000   \n",
       "\n",
       "                Size  \n",
       "count  282451.000000  \n",
       "mean   136730.073220  \n",
       "std     61002.319363  \n",
       "min     34875.000000  \n",
       "25%     93638.000000  \n",
       "50%    140167.000000  \n",
       "75%    202505.000000  \n",
       "max    219622.000000  "
      ]
     },
     "execution_count": 300,
     "metadata": {},
     "output_type": "execute_result"
    }
   ],
   "source": [
    "train.describe()"
   ]
  },
  {
   "cell_type": "code",
   "execution_count": 301,
   "metadata": {},
   "outputs": [],
   "source": [
    "#train.groupby('Dept').count()"
   ]
  },
  {
   "cell_type": "code",
   "execution_count": 302,
   "metadata": {},
   "outputs": [],
   "source": [
    "data=pd.concat([train,test],axis=0)"
   ]
  },
  {
   "cell_type": "code",
   "execution_count": 303,
   "metadata": {},
   "outputs": [
    {
     "data": {
      "text/html": [
       "<div>\n",
       "<style>\n",
       "    .dataframe thead tr:only-child th {\n",
       "        text-align: right;\n",
       "    }\n",
       "\n",
       "    .dataframe thead th {\n",
       "        text-align: left;\n",
       "    }\n",
       "\n",
       "    .dataframe tbody tr th {\n",
       "        vertical-align: top;\n",
       "    }\n",
       "</style>\n",
       "<table border=\"1\" class=\"dataframe\">\n",
       "  <thead>\n",
       "    <tr style=\"text-align: right;\">\n",
       "      <th></th>\n",
       "      <th>CPI</th>\n",
       "      <th>Date</th>\n",
       "      <th>Dept</th>\n",
       "      <th>Fuel_Price</th>\n",
       "      <th>IsHoliday</th>\n",
       "      <th>MarkDown1</th>\n",
       "      <th>MarkDown2</th>\n",
       "      <th>MarkDown3</th>\n",
       "      <th>MarkDown4</th>\n",
       "      <th>MarkDown5</th>\n",
       "      <th>Size</th>\n",
       "      <th>Store</th>\n",
       "      <th>Temperature</th>\n",
       "      <th>Type</th>\n",
       "      <th>Unemployment</th>\n",
       "      <th>Weekly_Sales</th>\n",
       "    </tr>\n",
       "  </thead>\n",
       "  <tbody>\n",
       "    <tr>\n",
       "      <th>139114</th>\n",
       "      <td>129.826833</td>\n",
       "      <td>2011-11-18</td>\n",
       "      <td>91</td>\n",
       "      <td>3.669</td>\n",
       "      <td>False</td>\n",
       "      <td>86.59</td>\n",
       "      <td>6.00</td>\n",
       "      <td>NaN</td>\n",
       "      <td>NaN</td>\n",
       "      <td>3220.86</td>\n",
       "      <td>39690</td>\n",
       "      <td>33</td>\n",
       "      <td>63.35</td>\n",
       "      <td>A</td>\n",
       "      <td>8.010</td>\n",
       "      <td>NaN</td>\n",
       "    </tr>\n",
       "    <tr>\n",
       "      <th>139115</th>\n",
       "      <td>130.645793</td>\n",
       "      <td>2012-03-02</td>\n",
       "      <td>85</td>\n",
       "      <td>3.242</td>\n",
       "      <td>False</td>\n",
       "      <td>25204.67</td>\n",
       "      <td>2436.75</td>\n",
       "      <td>167.88</td>\n",
       "      <td>16066.76</td>\n",
       "      <td>7289.69</td>\n",
       "      <td>219622</td>\n",
       "      <td>13</td>\n",
       "      <td>32.36</td>\n",
       "      <td>A</td>\n",
       "      <td>6.104</td>\n",
       "      <td>NaN</td>\n",
       "    </tr>\n",
       "    <tr>\n",
       "      <th>139116</th>\n",
       "      <td>211.855267</td>\n",
       "      <td>2011-01-28</td>\n",
       "      <td>91</td>\n",
       "      <td>3.010</td>\n",
       "      <td>False</td>\n",
       "      <td>NaN</td>\n",
       "      <td>NaN</td>\n",
       "      <td>NaN</td>\n",
       "      <td>NaN</td>\n",
       "      <td>NaN</td>\n",
       "      <td>42988</td>\n",
       "      <td>30</td>\n",
       "      <td>44.04</td>\n",
       "      <td>C</td>\n",
       "      <td>8.028</td>\n",
       "      <td>NaN</td>\n",
       "    </tr>\n",
       "    <tr>\n",
       "      <th>139117</th>\n",
       "      <td>197.655186</td>\n",
       "      <td>2012-06-08</td>\n",
       "      <td>32</td>\n",
       "      <td>3.741</td>\n",
       "      <td>False</td>\n",
       "      <td>8483.84</td>\n",
       "      <td>361.80</td>\n",
       "      <td>77.99</td>\n",
       "      <td>1640.00</td>\n",
       "      <td>6841.59</td>\n",
       "      <td>203007</td>\n",
       "      <td>32</td>\n",
       "      <td>71.14</td>\n",
       "      <td>A</td>\n",
       "      <td>8.090</td>\n",
       "      <td>NaN</td>\n",
       "    </tr>\n",
       "    <tr>\n",
       "      <th>139118</th>\n",
       "      <td>141.843393</td>\n",
       "      <td>2012-04-13</td>\n",
       "      <td>33</td>\n",
       "      <td>4.187</td>\n",
       "      <td>False</td>\n",
       "      <td>5139.48</td>\n",
       "      <td>4770.63</td>\n",
       "      <td>53.84</td>\n",
       "      <td>1532.47</td>\n",
       "      <td>4176.90</td>\n",
       "      <td>204184</td>\n",
       "      <td>27</td>\n",
       "      <td>52.22</td>\n",
       "      <td>A</td>\n",
       "      <td>8.253</td>\n",
       "      <td>NaN</td>\n",
       "    </tr>\n",
       "  </tbody>\n",
       "</table>\n",
       "</div>"
      ],
      "text/plain": [
       "               CPI        Date  Dept  Fuel_Price  IsHoliday  MarkDown1  \\\n",
       "139114  129.826833  2011-11-18    91       3.669      False      86.59   \n",
       "139115  130.645793  2012-03-02    85       3.242      False   25204.67   \n",
       "139116  211.855267  2011-01-28    91       3.010      False        NaN   \n",
       "139117  197.655186  2012-06-08    32       3.741      False    8483.84   \n",
       "139118  141.843393  2012-04-13    33       4.187      False    5139.48   \n",
       "\n",
       "        MarkDown2  MarkDown3  MarkDown4  MarkDown5    Size  Store  \\\n",
       "139114       6.00        NaN        NaN    3220.86   39690     33   \n",
       "139115    2436.75     167.88   16066.76    7289.69  219622     13   \n",
       "139116        NaN        NaN        NaN        NaN   42988     30   \n",
       "139117     361.80      77.99    1640.00    6841.59  203007     32   \n",
       "139118    4770.63      53.84    1532.47    4176.90  204184     27   \n",
       "\n",
       "        Temperature Type  Unemployment  Weekly_Sales  \n",
       "139114        63.35    A         8.010           NaN  \n",
       "139115        32.36    A         6.104           NaN  \n",
       "139116        44.04    C         8.028           NaN  \n",
       "139117        71.14    A         8.090           NaN  \n",
       "139118        52.22    A         8.253           NaN  "
      ]
     },
     "execution_count": 303,
     "metadata": {},
     "output_type": "execute_result"
    }
   ],
   "source": [
    "data.tail()"
   ]
  },
  {
   "cell_type": "code",
   "execution_count": 304,
   "metadata": {},
   "outputs": [
    {
     "data": {
      "text/html": [
       "<div>\n",
       "<style>\n",
       "    .dataframe thead tr:only-child th {\n",
       "        text-align: right;\n",
       "    }\n",
       "\n",
       "    .dataframe thead th {\n",
       "        text-align: left;\n",
       "    }\n",
       "\n",
       "    .dataframe tbody tr th {\n",
       "        vertical-align: top;\n",
       "    }\n",
       "</style>\n",
       "<table border=\"1\" class=\"dataframe\">\n",
       "  <thead>\n",
       "    <tr style=\"text-align: right;\">\n",
       "      <th></th>\n",
       "      <th>CPI</th>\n",
       "      <th>Dept</th>\n",
       "      <th>Fuel_Price</th>\n",
       "      <th>MarkDown1</th>\n",
       "      <th>MarkDown2</th>\n",
       "      <th>MarkDown3</th>\n",
       "      <th>MarkDown4</th>\n",
       "      <th>MarkDown5</th>\n",
       "      <th>Size</th>\n",
       "      <th>Store</th>\n",
       "      <th>Temperature</th>\n",
       "      <th>Unemployment</th>\n",
       "      <th>Weekly_Sales</th>\n",
       "    </tr>\n",
       "  </thead>\n",
       "  <tbody>\n",
       "    <tr>\n",
       "      <th>count</th>\n",
       "      <td>421570.000000</td>\n",
       "      <td>421570.000000</td>\n",
       "      <td>421570.000000</td>\n",
       "      <td>150681.000000</td>\n",
       "      <td>111248.000000</td>\n",
       "      <td>137091.000000</td>\n",
       "      <td>134967.000000</td>\n",
       "      <td>151432.000000</td>\n",
       "      <td>421570.000000</td>\n",
       "      <td>421570.000000</td>\n",
       "      <td>421570.000000</td>\n",
       "      <td>421570.000000</td>\n",
       "      <td>282451.000000</td>\n",
       "    </tr>\n",
       "    <tr>\n",
       "      <th>mean</th>\n",
       "      <td>171.201947</td>\n",
       "      <td>44.260317</td>\n",
       "      <td>3.361027</td>\n",
       "      <td>7246.420196</td>\n",
       "      <td>3334.628621</td>\n",
       "      <td>1439.421384</td>\n",
       "      <td>3383.168256</td>\n",
       "      <td>4628.975079</td>\n",
       "      <td>136727.915739</td>\n",
       "      <td>22.200546</td>\n",
       "      <td>60.090059</td>\n",
       "      <td>7.960289</td>\n",
       "      <td>15983.429692</td>\n",
       "    </tr>\n",
       "    <tr>\n",
       "      <th>std</th>\n",
       "      <td>39.159276</td>\n",
       "      <td>30.492054</td>\n",
       "      <td>0.458515</td>\n",
       "      <td>8291.221345</td>\n",
       "      <td>9475.357325</td>\n",
       "      <td>9623.078290</td>\n",
       "      <td>6292.384031</td>\n",
       "      <td>5962.887455</td>\n",
       "      <td>60980.583328</td>\n",
       "      <td>12.785297</td>\n",
       "      <td>18.447931</td>\n",
       "      <td>1.863296</td>\n",
       "      <td>22661.092494</td>\n",
       "    </tr>\n",
       "    <tr>\n",
       "      <th>min</th>\n",
       "      <td>126.064000</td>\n",
       "      <td>1.000000</td>\n",
       "      <td>2.472000</td>\n",
       "      <td>0.270000</td>\n",
       "      <td>-265.760000</td>\n",
       "      <td>-29.100000</td>\n",
       "      <td>0.220000</td>\n",
       "      <td>135.160000</td>\n",
       "      <td>34875.000000</td>\n",
       "      <td>1.000000</td>\n",
       "      <td>-2.060000</td>\n",
       "      <td>3.879000</td>\n",
       "      <td>-4988.940000</td>\n",
       "    </tr>\n",
       "    <tr>\n",
       "      <th>25%</th>\n",
       "      <td>132.022667</td>\n",
       "      <td>18.000000</td>\n",
       "      <td>2.933000</td>\n",
       "      <td>2240.270000</td>\n",
       "      <td>41.600000</td>\n",
       "      <td>5.080000</td>\n",
       "      <td>504.220000</td>\n",
       "      <td>1878.440000</td>\n",
       "      <td>93638.000000</td>\n",
       "      <td>11.000000</td>\n",
       "      <td>46.680000</td>\n",
       "      <td>6.891000</td>\n",
       "      <td>2079.330000</td>\n",
       "    </tr>\n",
       "    <tr>\n",
       "      <th>50%</th>\n",
       "      <td>182.318780</td>\n",
       "      <td>37.000000</td>\n",
       "      <td>3.452000</td>\n",
       "      <td>5347.450000</td>\n",
       "      <td>192.000000</td>\n",
       "      <td>24.600000</td>\n",
       "      <td>1481.310000</td>\n",
       "      <td>3359.450000</td>\n",
       "      <td>140167.000000</td>\n",
       "      <td>22.000000</td>\n",
       "      <td>62.090000</td>\n",
       "      <td>7.866000</td>\n",
       "      <td>7616.550000</td>\n",
       "    </tr>\n",
       "    <tr>\n",
       "      <th>75%</th>\n",
       "      <td>212.416993</td>\n",
       "      <td>74.000000</td>\n",
       "      <td>3.738000</td>\n",
       "      <td>9210.900000</td>\n",
       "      <td>1926.940000</td>\n",
       "      <td>103.990000</td>\n",
       "      <td>3595.040000</td>\n",
       "      <td>5563.800000</td>\n",
       "      <td>202505.000000</td>\n",
       "      <td>33.000000</td>\n",
       "      <td>74.280000</td>\n",
       "      <td>8.572000</td>\n",
       "      <td>20245.745000</td>\n",
       "    </tr>\n",
       "    <tr>\n",
       "      <th>max</th>\n",
       "      <td>227.232807</td>\n",
       "      <td>99.000000</td>\n",
       "      <td>4.468000</td>\n",
       "      <td>88646.760000</td>\n",
       "      <td>104519.540000</td>\n",
       "      <td>141630.610000</td>\n",
       "      <td>67474.850000</td>\n",
       "      <td>108519.280000</td>\n",
       "      <td>219622.000000</td>\n",
       "      <td>45.000000</td>\n",
       "      <td>100.140000</td>\n",
       "      <td>14.313000</td>\n",
       "      <td>693099.360000</td>\n",
       "    </tr>\n",
       "  </tbody>\n",
       "</table>\n",
       "</div>"
      ],
      "text/plain": [
       "                 CPI           Dept     Fuel_Price      MarkDown1  \\\n",
       "count  421570.000000  421570.000000  421570.000000  150681.000000   \n",
       "mean      171.201947      44.260317       3.361027    7246.420196   \n",
       "std        39.159276      30.492054       0.458515    8291.221345   \n",
       "min       126.064000       1.000000       2.472000       0.270000   \n",
       "25%       132.022667      18.000000       2.933000    2240.270000   \n",
       "50%       182.318780      37.000000       3.452000    5347.450000   \n",
       "75%       212.416993      74.000000       3.738000    9210.900000   \n",
       "max       227.232807      99.000000       4.468000   88646.760000   \n",
       "\n",
       "           MarkDown2      MarkDown3      MarkDown4      MarkDown5  \\\n",
       "count  111248.000000  137091.000000  134967.000000  151432.000000   \n",
       "mean     3334.628621    1439.421384    3383.168256    4628.975079   \n",
       "std      9475.357325    9623.078290    6292.384031    5962.887455   \n",
       "min      -265.760000     -29.100000       0.220000     135.160000   \n",
       "25%        41.600000       5.080000     504.220000    1878.440000   \n",
       "50%       192.000000      24.600000    1481.310000    3359.450000   \n",
       "75%      1926.940000     103.990000    3595.040000    5563.800000   \n",
       "max    104519.540000  141630.610000   67474.850000  108519.280000   \n",
       "\n",
       "                Size          Store    Temperature   Unemployment  \\\n",
       "count  421570.000000  421570.000000  421570.000000  421570.000000   \n",
       "mean   136727.915739      22.200546      60.090059       7.960289   \n",
       "std     60980.583328      12.785297      18.447931       1.863296   \n",
       "min     34875.000000       1.000000      -2.060000       3.879000   \n",
       "25%     93638.000000      11.000000      46.680000       6.891000   \n",
       "50%    140167.000000      22.000000      62.090000       7.866000   \n",
       "75%    202505.000000      33.000000      74.280000       8.572000   \n",
       "max    219622.000000      45.000000     100.140000      14.313000   \n",
       "\n",
       "        Weekly_Sales  \n",
       "count  282451.000000  \n",
       "mean    15983.429692  \n",
       "std     22661.092494  \n",
       "min     -4988.940000  \n",
       "25%      2079.330000  \n",
       "50%      7616.550000  \n",
       "75%     20245.745000  \n",
       "max    693099.360000  "
      ]
     },
     "execution_count": 304,
     "metadata": {},
     "output_type": "execute_result"
    }
   ],
   "source": [
    "data.describe()"
   ]
  },
  {
   "cell_type": "code",
   "execution_count": 305,
   "metadata": {},
   "outputs": [
    {
     "data": {
      "text/plain": [
       "CPI                  0\n",
       "Date                 0\n",
       "Dept                 0\n",
       "Fuel_Price           0\n",
       "IsHoliday            0\n",
       "MarkDown1       270889\n",
       "MarkDown2       310322\n",
       "MarkDown3       284479\n",
       "MarkDown4       286603\n",
       "MarkDown5       270138\n",
       "Size                 0\n",
       "Store                0\n",
       "Temperature          0\n",
       "Type                 0\n",
       "Unemployment         0\n",
       "Weekly_Sales    139119\n",
       "dtype: int64"
      ]
     },
     "execution_count": 305,
     "metadata": {},
     "output_type": "execute_result"
    }
   ],
   "source": [
    "data.isnull().sum()"
   ]
  },
  {
   "cell_type": "code",
   "execution_count": 306,
   "metadata": {},
   "outputs": [],
   "source": [
    "data.fillna(0,inplace=True)"
   ]
  },
  {
   "cell_type": "code",
   "execution_count": 307,
   "metadata": {},
   "outputs": [
    {
     "data": {
      "text/plain": [
       "CPI             0\n",
       "Date            0\n",
       "Dept            0\n",
       "Fuel_Price      0\n",
       "IsHoliday       0\n",
       "MarkDown1       0\n",
       "MarkDown2       0\n",
       "MarkDown3       0\n",
       "MarkDown4       0\n",
       "MarkDown5       0\n",
       "Size            0\n",
       "Store           0\n",
       "Temperature     0\n",
       "Type            0\n",
       "Unemployment    0\n",
       "Weekly_Sales    0\n",
       "dtype: int64"
      ]
     },
     "execution_count": 307,
     "metadata": {},
     "output_type": "execute_result"
    }
   ],
   "source": [
    "data.isnull().sum()"
   ]
  },
  {
   "cell_type": "code",
   "execution_count": 308,
   "metadata": {
    "collapsed": true
   },
   "outputs": [],
   "source": [
    "df=data"
   ]
  },
  {
   "cell_type": "code",
   "execution_count": 309,
   "metadata": {},
   "outputs": [
    {
     "data": {
      "text/html": [
       "<div>\n",
       "<style>\n",
       "    .dataframe thead tr:only-child th {\n",
       "        text-align: right;\n",
       "    }\n",
       "\n",
       "    .dataframe thead th {\n",
       "        text-align: left;\n",
       "    }\n",
       "\n",
       "    .dataframe tbody tr th {\n",
       "        vertical-align: top;\n",
       "    }\n",
       "</style>\n",
       "<table border=\"1\" class=\"dataframe\">\n",
       "  <thead>\n",
       "    <tr style=\"text-align: right;\">\n",
       "      <th></th>\n",
       "      <th>CPI</th>\n",
       "      <th>Date</th>\n",
       "      <th>Dept</th>\n",
       "      <th>Fuel_Price</th>\n",
       "      <th>IsHoliday</th>\n",
       "      <th>MarkDown1</th>\n",
       "      <th>MarkDown2</th>\n",
       "      <th>MarkDown3</th>\n",
       "      <th>MarkDown4</th>\n",
       "      <th>MarkDown5</th>\n",
       "      <th>Size</th>\n",
       "      <th>Store</th>\n",
       "      <th>Temperature</th>\n",
       "      <th>Type</th>\n",
       "      <th>Unemployment</th>\n",
       "      <th>Weekly_Sales</th>\n",
       "    </tr>\n",
       "  </thead>\n",
       "  <tbody>\n",
       "    <tr>\n",
       "      <th>0</th>\n",
       "      <td>136.213613</td>\n",
       "      <td>2011-08-26</td>\n",
       "      <td>92</td>\n",
       "      <td>3.796</td>\n",
       "      <td>False</td>\n",
       "      <td>0.00</td>\n",
       "      <td>0.0</td>\n",
       "      <td>0.0</td>\n",
       "      <td>0.00</td>\n",
       "      <td>0.00</td>\n",
       "      <td>152513</td>\n",
       "      <td>26</td>\n",
       "      <td>61.10</td>\n",
       "      <td>A</td>\n",
       "      <td>7.767</td>\n",
       "      <td>87235.57</td>\n",
       "    </tr>\n",
       "    <tr>\n",
       "      <th>1</th>\n",
       "      <td>128.616064</td>\n",
       "      <td>2011-03-25</td>\n",
       "      <td>22</td>\n",
       "      <td>3.480</td>\n",
       "      <td>False</td>\n",
       "      <td>0.00</td>\n",
       "      <td>0.0</td>\n",
       "      <td>0.0</td>\n",
       "      <td>0.00</td>\n",
       "      <td>0.00</td>\n",
       "      <td>158114</td>\n",
       "      <td>34</td>\n",
       "      <td>53.11</td>\n",
       "      <td>A</td>\n",
       "      <td>10.398</td>\n",
       "      <td>5945.97</td>\n",
       "    </tr>\n",
       "    <tr>\n",
       "      <th>2</th>\n",
       "      <td>211.265543</td>\n",
       "      <td>2010-12-03</td>\n",
       "      <td>28</td>\n",
       "      <td>2.708</td>\n",
       "      <td>False</td>\n",
       "      <td>0.00</td>\n",
       "      <td>0.0</td>\n",
       "      <td>0.0</td>\n",
       "      <td>0.00</td>\n",
       "      <td>0.00</td>\n",
       "      <td>140167</td>\n",
       "      <td>21</td>\n",
       "      <td>50.43</td>\n",
       "      <td>B</td>\n",
       "      <td>8.163</td>\n",
       "      <td>1219.89</td>\n",
       "    </tr>\n",
       "    <tr>\n",
       "      <th>3</th>\n",
       "      <td>214.878556</td>\n",
       "      <td>2010-09-17</td>\n",
       "      <td>9</td>\n",
       "      <td>2.582</td>\n",
       "      <td>False</td>\n",
       "      <td>0.00</td>\n",
       "      <td>0.0</td>\n",
       "      <td>0.0</td>\n",
       "      <td>0.00</td>\n",
       "      <td>0.00</td>\n",
       "      <td>155078</td>\n",
       "      <td>8</td>\n",
       "      <td>75.32</td>\n",
       "      <td>A</td>\n",
       "      <td>6.315</td>\n",
       "      <td>11972.71</td>\n",
       "    </tr>\n",
       "    <tr>\n",
       "      <th>4</th>\n",
       "      <td>138.106581</td>\n",
       "      <td>2012-05-18</td>\n",
       "      <td>55</td>\n",
       "      <td>4.029</td>\n",
       "      <td>False</td>\n",
       "      <td>12613.98</td>\n",
       "      <td>0.0</td>\n",
       "      <td>11.5</td>\n",
       "      <td>1705.28</td>\n",
       "      <td>3600.79</td>\n",
       "      <td>203819</td>\n",
       "      <td>19</td>\n",
       "      <td>58.81</td>\n",
       "      <td>A</td>\n",
       "      <td>8.150</td>\n",
       "      <td>8271.82</td>\n",
       "    </tr>\n",
       "  </tbody>\n",
       "</table>\n",
       "</div>"
      ],
      "text/plain": [
       "          CPI        Date  Dept  Fuel_Price  IsHoliday  MarkDown1  MarkDown2  \\\n",
       "0  136.213613  2011-08-26    92       3.796      False       0.00        0.0   \n",
       "1  128.616064  2011-03-25    22       3.480      False       0.00        0.0   \n",
       "2  211.265543  2010-12-03    28       2.708      False       0.00        0.0   \n",
       "3  214.878556  2010-09-17     9       2.582      False       0.00        0.0   \n",
       "4  138.106581  2012-05-18    55       4.029      False   12613.98        0.0   \n",
       "\n",
       "   MarkDown3  MarkDown4  MarkDown5    Size  Store  Temperature Type  \\\n",
       "0        0.0       0.00       0.00  152513     26        61.10    A   \n",
       "1        0.0       0.00       0.00  158114     34        53.11    A   \n",
       "2        0.0       0.00       0.00  140167     21        50.43    B   \n",
       "3        0.0       0.00       0.00  155078      8        75.32    A   \n",
       "4       11.5    1705.28    3600.79  203819     19        58.81    A   \n",
       "\n",
       "   Unemployment  Weekly_Sales  \n",
       "0         7.767      87235.57  \n",
       "1        10.398       5945.97  \n",
       "2         8.163       1219.89  \n",
       "3         6.315      11972.71  \n",
       "4         8.150       8271.82  "
      ]
     },
     "execution_count": 309,
     "metadata": {},
     "output_type": "execute_result"
    }
   ],
   "source": [
    "df.head()"
   ]
  },
  {
   "cell_type": "code",
   "execution_count": 310,
   "metadata": {},
   "outputs": [
    {
     "data": {
      "text/plain": [
       "(421570, 16)"
      ]
     },
     "execution_count": 310,
     "metadata": {},
     "output_type": "execute_result"
    }
   ],
   "source": [
    "df.shape"
   ]
  },
  {
   "cell_type": "code",
   "execution_count": 311,
   "metadata": {},
   "outputs": [],
   "source": [
    "def add_datepart(df, fldname, parts=[], drop=True):\n",
    "    \"\"\"add_datepart converts a column of df from a datetime64 to many columns containing\n",
    "    the information from the date. This applies changes inplace.\n",
    "    \"\"\"\n",
    "    # Acknowledgment: Fast.ai ML library https://github.com/fastai/fastai/blob/master/fastai/structured.py\n",
    "    # Jeremy Howard c.s.\n",
    "    #kaggle source rik de dekan\n",
    "\n",
    "    if len(parts) == 0:\n",
    "        parts = [\n",
    "            'Year', \n",
    "            'Month', \n",
    "            'Week', \n",
    "            'Dayofyear',\n",
    "            'Dayofweek', \n",
    "            'Day', \n",
    "            'Is_month_end', \n",
    "            'Is_month_start', \n",
    "            'Is_quarter_end', \n",
    "            'Is_quarter_start', \n",
    "            'Is_year_end', \n",
    "            'Is_year_start',\n",
    "            'Elapsed',\n",
    "                ]\n",
    "\n",
    "    fld = df[fldname]\n",
    "    if not np.issubdtype(fld.dtype, np.datetime64):\n",
    "        df[fldname] = fld = pd.to_datetime(fld, infer_datetime_format=True)\n",
    "\n",
    "    # remove the word \"date\" from the end of the fldname\n",
    "    targ_pre = re.sub('[Dd]ate$', '', fldname) \n",
    "    for n in parts:\n",
    "        target = targ_pre+n\n",
    "        if not target in df.columns:\n",
    "            df[target] = getattr(fld.dt,n.lower())\n",
    "            if n == 'Elapsed':\n",
    "                df[targ_pre+'Elapsed'] = fld.astype(np.int64) // 10**9\n",
    "\n",
    "    if drop: df.drop(fldname, axis=1, inplace=True)"
   ]
  },
  {
   "cell_type": "code",
   "execution_count": 312,
   "metadata": {},
   "outputs": [],
   "source": [
    "add_datepart(df, 'Date', parts=['Year', 'Month', 'Week'], drop=False)"
   ]
  },
  {
   "cell_type": "code",
   "execution_count": 313,
   "metadata": {},
   "outputs": [],
   "source": [
    "df['Type'] = 'Type_' + df['Type'].astype(str)"
   ]
  },
  {
   "cell_type": "code",
   "execution_count": 314,
   "metadata": {
    "collapsed": true
   },
   "outputs": [],
   "source": [
    "# create dummy features/columns for categorical data\n",
    "\n",
    "'''catcats = [\n",
    "     \"Year\",\n",
    "     \"Month\",\n",
    "     \"Type\",\n",
    "     \"Store\",\n",
    "     \"Dept\n",
    "     ]\n",
    "for c in catcats:\n",
    "    if c in df.columns:\n",
    "        dummies = pd.get_dummies(df[c], prefix=c, prefix_sep='')\n",
    "        df = pd.concat([df, dummies], axis=1)\"'''\n",
    "\n",
    "dummies=pd.get_dummies(df['Type'])\n",
    "df = pd.concat([df, dummies], axis=1)"
   ]
  },
  {
   "cell_type": "code",
   "execution_count": 315,
   "metadata": {},
   "outputs": [],
   "source": [
    "list=['Date','Type'\n",
    "      #,'Markdown1','Markdown2','Markdown3','Markdown4','Markdown5'\n",
    "     ]\n",
    "\n",
    "for d in list:\n",
    "    if d in df.columns:\n",
    "        df.drop(d,axis=1,inplace=True)\n"
   ]
  },
  {
   "cell_type": "code",
   "execution_count": 316,
   "metadata": {},
   "outputs": [
    {
     "data": {
      "text/html": [
       "<div>\n",
       "<style>\n",
       "    .dataframe thead tr:only-child th {\n",
       "        text-align: right;\n",
       "    }\n",
       "\n",
       "    .dataframe thead th {\n",
       "        text-align: left;\n",
       "    }\n",
       "\n",
       "    .dataframe tbody tr th {\n",
       "        vertical-align: top;\n",
       "    }\n",
       "</style>\n",
       "<table border=\"1\" class=\"dataframe\">\n",
       "  <thead>\n",
       "    <tr style=\"text-align: right;\">\n",
       "      <th></th>\n",
       "      <th>CPI</th>\n",
       "      <th>Dept</th>\n",
       "      <th>Fuel_Price</th>\n",
       "      <th>IsHoliday</th>\n",
       "      <th>MarkDown1</th>\n",
       "      <th>MarkDown2</th>\n",
       "      <th>MarkDown3</th>\n",
       "      <th>MarkDown4</th>\n",
       "      <th>MarkDown5</th>\n",
       "      <th>Size</th>\n",
       "      <th>Store</th>\n",
       "      <th>Temperature</th>\n",
       "      <th>Unemployment</th>\n",
       "      <th>Weekly_Sales</th>\n",
       "      <th>Year</th>\n",
       "      <th>Month</th>\n",
       "      <th>Week</th>\n",
       "      <th>Type_A</th>\n",
       "      <th>Type_B</th>\n",
       "      <th>Type_C</th>\n",
       "    </tr>\n",
       "  </thead>\n",
       "  <tbody>\n",
       "    <tr>\n",
       "      <th>0</th>\n",
       "      <td>136.213613</td>\n",
       "      <td>92</td>\n",
       "      <td>3.796</td>\n",
       "      <td>False</td>\n",
       "      <td>0.00</td>\n",
       "      <td>0.0</td>\n",
       "      <td>0.0</td>\n",
       "      <td>0.00</td>\n",
       "      <td>0.00</td>\n",
       "      <td>152513</td>\n",
       "      <td>26</td>\n",
       "      <td>61.10</td>\n",
       "      <td>7.767</td>\n",
       "      <td>87235.57</td>\n",
       "      <td>2011</td>\n",
       "      <td>8</td>\n",
       "      <td>34</td>\n",
       "      <td>1</td>\n",
       "      <td>0</td>\n",
       "      <td>0</td>\n",
       "    </tr>\n",
       "    <tr>\n",
       "      <th>1</th>\n",
       "      <td>128.616064</td>\n",
       "      <td>22</td>\n",
       "      <td>3.480</td>\n",
       "      <td>False</td>\n",
       "      <td>0.00</td>\n",
       "      <td>0.0</td>\n",
       "      <td>0.0</td>\n",
       "      <td>0.00</td>\n",
       "      <td>0.00</td>\n",
       "      <td>158114</td>\n",
       "      <td>34</td>\n",
       "      <td>53.11</td>\n",
       "      <td>10.398</td>\n",
       "      <td>5945.97</td>\n",
       "      <td>2011</td>\n",
       "      <td>3</td>\n",
       "      <td>12</td>\n",
       "      <td>1</td>\n",
       "      <td>0</td>\n",
       "      <td>0</td>\n",
       "    </tr>\n",
       "    <tr>\n",
       "      <th>2</th>\n",
       "      <td>211.265543</td>\n",
       "      <td>28</td>\n",
       "      <td>2.708</td>\n",
       "      <td>False</td>\n",
       "      <td>0.00</td>\n",
       "      <td>0.0</td>\n",
       "      <td>0.0</td>\n",
       "      <td>0.00</td>\n",
       "      <td>0.00</td>\n",
       "      <td>140167</td>\n",
       "      <td>21</td>\n",
       "      <td>50.43</td>\n",
       "      <td>8.163</td>\n",
       "      <td>1219.89</td>\n",
       "      <td>2010</td>\n",
       "      <td>12</td>\n",
       "      <td>48</td>\n",
       "      <td>0</td>\n",
       "      <td>1</td>\n",
       "      <td>0</td>\n",
       "    </tr>\n",
       "    <tr>\n",
       "      <th>3</th>\n",
       "      <td>214.878556</td>\n",
       "      <td>9</td>\n",
       "      <td>2.582</td>\n",
       "      <td>False</td>\n",
       "      <td>0.00</td>\n",
       "      <td>0.0</td>\n",
       "      <td>0.0</td>\n",
       "      <td>0.00</td>\n",
       "      <td>0.00</td>\n",
       "      <td>155078</td>\n",
       "      <td>8</td>\n",
       "      <td>75.32</td>\n",
       "      <td>6.315</td>\n",
       "      <td>11972.71</td>\n",
       "      <td>2010</td>\n",
       "      <td>9</td>\n",
       "      <td>37</td>\n",
       "      <td>1</td>\n",
       "      <td>0</td>\n",
       "      <td>0</td>\n",
       "    </tr>\n",
       "    <tr>\n",
       "      <th>4</th>\n",
       "      <td>138.106581</td>\n",
       "      <td>55</td>\n",
       "      <td>4.029</td>\n",
       "      <td>False</td>\n",
       "      <td>12613.98</td>\n",
       "      <td>0.0</td>\n",
       "      <td>11.5</td>\n",
       "      <td>1705.28</td>\n",
       "      <td>3600.79</td>\n",
       "      <td>203819</td>\n",
       "      <td>19</td>\n",
       "      <td>58.81</td>\n",
       "      <td>8.150</td>\n",
       "      <td>8271.82</td>\n",
       "      <td>2012</td>\n",
       "      <td>5</td>\n",
       "      <td>20</td>\n",
       "      <td>1</td>\n",
       "      <td>0</td>\n",
       "      <td>0</td>\n",
       "    </tr>\n",
       "  </tbody>\n",
       "</table>\n",
       "</div>"
      ],
      "text/plain": [
       "          CPI  Dept  Fuel_Price  IsHoliday  MarkDown1  MarkDown2  MarkDown3  \\\n",
       "0  136.213613    92       3.796      False       0.00        0.0        0.0   \n",
       "1  128.616064    22       3.480      False       0.00        0.0        0.0   \n",
       "2  211.265543    28       2.708      False       0.00        0.0        0.0   \n",
       "3  214.878556     9       2.582      False       0.00        0.0        0.0   \n",
       "4  138.106581    55       4.029      False   12613.98        0.0       11.5   \n",
       "\n",
       "   MarkDown4  MarkDown5    Size  Store  Temperature  Unemployment  \\\n",
       "0       0.00       0.00  152513     26        61.10         7.767   \n",
       "1       0.00       0.00  158114     34        53.11        10.398   \n",
       "2       0.00       0.00  140167     21        50.43         8.163   \n",
       "3       0.00       0.00  155078      8        75.32         6.315   \n",
       "4    1705.28    3600.79  203819     19        58.81         8.150   \n",
       "\n",
       "   Weekly_Sales  Year  Month  Week  Type_A  Type_B  Type_C  \n",
       "0      87235.57  2011      8    34       1       0       0  \n",
       "1       5945.97  2011      3    12       1       0       0  \n",
       "2       1219.89  2010     12    48       0       1       0  \n",
       "3      11972.71  2010      9    37       1       0       0  \n",
       "4       8271.82  2012      5    20       1       0       0  "
      ]
     },
     "execution_count": 316,
     "metadata": {},
     "output_type": "execute_result"
    }
   ],
   "source": [
    "df.head()"
   ]
  },
  {
   "cell_type": "code",
   "execution_count": 317,
   "metadata": {},
   "outputs": [],
   "source": [
    "from sklearn.cross_validation import train_test_split"
   ]
  },
  {
   "cell_type": "code",
   "execution_count": 318,
   "metadata": {},
   "outputs": [],
   "source": [
    "x=df.drop('Weekly_Sales',axis=1)\n",
    "y=df['Weekly_Sales']\n",
    "X_train, X_test, y_train, y_test = train_test_split(x, y, test_size=0.33, random_state=101)"
   ]
  },
  {
   "cell_type": "code",
   "execution_count": 320,
   "metadata": {},
   "outputs": [],
   "source": [
    "df['diff']=df.groupby(['Store','Dept'])['Weekly_Sales'].shift(1)"
   ]
  },
  {
   "cell_type": "code",
   "execution_count": 325,
   "metadata": {},
   "outputs": [
    {
     "data": {
      "text/plain": [
       "array([-4988.94, -1750.  , -1699.  , ...,      nan,      nan,      nan])"
      ]
     },
     "execution_count": 325,
     "metadata": {},
     "output_type": "execute_result"
    }
   ],
   "source": [
    "np.unique(df['diff'])"
   ]
  },
  {
   "cell_type": "code",
   "execution_count": 326,
   "metadata": {
    "collapsed": true
   },
   "outputs": [],
   "source": [
    "df['diff1']=df.groupby(['Store','Dept'])['Weekly_Sales'].shift(0)"
   ]
  },
  {
   "cell_type": "code",
   "execution_count": 327,
   "metadata": {},
   "outputs": [
    {
     "data": {
      "text/plain": [
       "array([  -4988.94,   -1750.  ,   -1699.  , ...,  630999.19,  649770.18,\n",
       "        693099.36])"
      ]
     },
     "execution_count": 327,
     "metadata": {},
     "output_type": "execute_result"
    }
   ],
   "source": [
    "np.unique(df['diff1'])"
   ]
  },
  {
   "cell_type": "code",
   "execution_count": 329,
   "metadata": {},
   "outputs": [],
   "source": [
    "df['difference']=df['diff']-df['diff1']"
   ]
  },
  {
   "cell_type": "code",
   "execution_count": 330,
   "metadata": {
    "collapsed": true
   },
   "outputs": [],
   "source": [
    "df1=df['difference']"
   ]
  },
  {
   "cell_type": "code",
   "execution_count": 331,
   "metadata": {
    "collapsed": true
   },
   "outputs": [],
   "source": [
    "df1=df1.fillna(0).values"
   ]
  },
  {
   "cell_type": "code",
   "execution_count": 334,
   "metadata": {},
   "outputs": [
    {
     "data": {
      "text/plain": [
       "array([ 0.,  0.,  0., ...,  0.,  0.,  0.])"
      ]
     },
     "execution_count": 334,
     "metadata": {},
     "output_type": "execute_result"
    }
   ],
   "source": [
    "df1"
   ]
  },
  {
   "cell_type": "code",
   "execution_count": 335,
   "metadata": {
    "collapsed": true
   },
   "outputs": [],
   "source": [
    "Y_diff = np.diff(y_train)"
   ]
  },
  {
   "cell_type": "code",
   "execution_count": 337,
   "metadata": {},
   "outputs": [
    {
     "data": {
      "text/plain": [
       "[<matplotlib.lines.Line2D at 0x1d158639b0>]"
      ]
     },
     "execution_count": 337,
     "metadata": {},
     "output_type": "execute_result"
    },
    {
     "data": {
      "image/png": "[encoded data removed]",
      "text/plain": [
       "<matplotlib.figure.Figure at 0x1ce37682b0>"
      ]
     },
     "metadata": {},
     "output_type": "display_data"
    }
   ],
   "source": [
    "plt.plot(df1)"
   ]
  },
  {
   "cell_type": "code",
   "execution_count": 338,
   "metadata": {
    "collapsed": true
   },
   "outputs": [],
   "source": [
    "model=ARIMA(df1,order=(1,1,0))"
   ]
  },
  {
   "cell_type": "code",
   "execution_count": 339,
   "metadata": {
    "collapsed": true
   },
   "outputs": [],
   "source": [
    "x=model.fit(disp=0)"
   ]
  },
  {
   "cell_type": "code",
   "execution_count": 340,
   "metadata": {},
   "outputs": [
    {
     "data": {
      "text/html": [
       "<table class=\"simpletable\">\n",
       "<caption>ARIMA Model Results</caption>\n",
       "<tr>\n",
       "  <th>Dep. Variable:</th>        <td>D.y</td>       <th>  No. Observations:  </th>    <td>421569</td>   \n",
       "</tr>\n",
       "<tr>\n",
       "  <th>Model:</th>          <td>ARIMA(1, 1, 0)</td>  <th>  Log Likelihood     </th> <td>-4487587.176</td>\n",
       "</tr>\n",
       "<tr>\n",
       "  <th>Method:</th>             <td>css-mle</td>     <th>  S.D. of innovations</th>   <td>10158.092</td> \n",
       "</tr>\n",
       "<tr>\n",
       "  <th>Date:</th>          <td>Fri, 01 Jun 2018</td> <th>  AIC                </th>  <td>8975180.352</td>\n",
       "</tr>\n",
       "<tr>\n",
       "  <th>Time:</th>              <td>21:51:10</td>     <th>  BIC                </th>  <td>8975213.207</td>\n",
       "</tr>\n",
       "<tr>\n",
       "  <th>Sample:</th>                <td>1</td>        <th>  HQIC               </th>  <td>8975189.719</td>\n",
       "</tr>\n",
       "<tr>\n",
       "  <th></th>                       <td> </td>        <th>                     </th>       <td> </td>     \n",
       "</tr>\n",
       "</table>\n",
       "<table class=\"simpletable\">\n",
       "<tr>\n",
       "      <td></td>         <th>coef</th>     <th>std err</th>      <th>z</th>      <th>P>|z|</th>  <th>[0.025</th>    <th>0.975]</th>  \n",
       "</tr>\n",
       "<tr>\n",
       "  <th>const</th>     <td> 4.086e-14</td> <td>   10.427</td> <td> 3.92e-15</td> <td> 1.000</td> <td>  -20.437</td> <td>   20.437</td>\n",
       "</tr>\n",
       "<tr>\n",
       "  <th>ar.L1.D.y</th> <td>   -0.5004</td> <td>    0.001</td> <td> -375.272</td> <td> 0.000</td> <td>   -0.503</td> <td>   -0.498</td>\n",
       "</tr>\n",
       "</table>\n",
       "<table class=\"simpletable\">\n",
       "<caption>Roots</caption>\n",
       "<tr>\n",
       "    <td></td>   <th>           Real</th> <th>         Imaginary</th> <th>         Modulus</th> <th>        Frequency</th>\n",
       "</tr>\n",
       "<tr>\n",
       "  <th>AR.1</th>              -1.9984                    +0.0000j                    1.9984                    0.5000     \n",
       "</tr>\n",
       "</table>"
      ],
      "text/plain": [
       "<class 'statsmodels.iolib.summary.Summary'>\n",
       "\"\"\"\n",
       "                             ARIMA Model Results                              \n",
       "==============================================================================\n",
       "Dep. Variable:                    D.y   No. Observations:               421569\n",
       "Model:                 ARIMA(1, 1, 0)   Log Likelihood            -4487587.176\n",
       "Method:                       css-mle   S.D. of innovations          10158.092\n",
       "Date:                Fri, 01 Jun 2018   AIC                        8975180.352\n",
       "Time:                        21:51:10   BIC                        8975213.207\n",
       "Sample:                             1   HQIC                       8975189.719\n",
       "                                                                              \n",
       "==============================================================================\n",
       "                 coef    std err          z      P>|z|      [0.025      0.975]\n",
       "------------------------------------------------------------------------------\n",
       "const       4.086e-14     10.427   3.92e-15      1.000     -20.437      20.437\n",
       "ar.L1.D.y     -0.5004      0.001   -375.272      0.000      -0.503      -0.498\n",
       "                                    Roots                                    \n",
       "=============================================================================\n",
       "                 Real           Imaginary           Modulus         Frequency\n",
       "-----------------------------------------------------------------------------\n",
       "AR.1           -1.9984           +0.0000j            1.9984            0.5000\n",
       "-----------------------------------------------------------------------------\n",
       "\"\"\""
      ]
     },
     "execution_count": 340,
     "metadata": {},
     "output_type": "execute_result"
    }
   ],
   "source": [
    "x.summary()"
   ]
  },
  {
   "cell_type": "code",
   "execution_count": 341,
   "metadata": {
    "collapsed": true
   },
   "outputs": [],
   "source": [
    "y_pred=x.predict()"
   ]
  },
  {
   "cell_type": "code",
   "execution_count": 347,
   "metadata": {},
   "outputs": [],
   "source": [
    "Ymae  = metrics.mean_absolute_error(df1[-139119:], y_pred[-139119:])"
   ]
  },
  {
   "cell_type": "code",
   "execution_count": 348,
   "metadata": {},
   "outputs": [
    {
     "data": {
      "text/plain": [
       "539.61986211272449"
      ]
     },
     "execution_count": 348,
     "metadata": {},
     "output_type": "execute_result"
    }
   ],
   "source": [
    "Ymae"
   ]
  },
  {
   "cell_type": "code",
   "execution_count": 351,
   "metadata": {},
   "outputs": [
    {
     "name": "stdout",
     "output_type": "stream",
     "text": [
      "Test MSE: 539.620\n"
     ]
    }
   ],
   "source": [
    "print('Test MSE: %.3f' % Ymae)"
   ]
  },
  {
   "cell_type": "code",
   "execution_count": 354,
   "metadata": {},
   "outputs": [
    {
     "data": {
      "image/png": "[encoded data removed]",
      "text/plain": [
       "<matplotlib.figure.Figure at 0x1c18b051d0>"
      ]
     },
     "metadata": {},
     "output_type": "display_data"
    }
   ],
   "source": [
    "# plot\n",
    "from matplotlib import pyplot\n",
    "pyplot.plot(test)\n",
    "pyplot.plot(y_pred, color='red')\n",
    "pyplot.show()"
   ]
  },
  {
   "cell_type": "code",
   "execution_count": 364,
   "metadata": {},
   "outputs": [],
   "source": [
    "submission = pd.DataFrame({'id':test['Store'].map(str) + '_' + test['Dept'].map(str) + '_' + test['Date'].map(str),\n",
    "                          'Weekly_Sales':y_pred[-139119:].flatten()})"
   ]
  },
  {
   "cell_type": "code",
   "execution_count": 360,
   "metadata": {},
   "outputs": [
    {
     "data": {
      "text/plain": [
       "array([ -7.99214602e+02,  -1.90170120e+04,   1.90554133e+04, ...,\n",
       "         6.13009284e-14,   6.13009284e-14,   6.13009284e-14])"
      ]
     },
     "execution_count": 360,
     "metadata": {},
     "output_type": "execute_result"
    }
   ],
   "source": []
  },
  {
   "cell_type": "code",
   "execution_count": 365,
   "metadata": {},
   "outputs": [],
   "source": [
    "submission.to_csv('submission.csv',index=False)"
   ]
  },
  {
   "cell_type": "code",
   "execution_count": null,
   "metadata": {},
   "outputs": [],
   "source": []
  },
  {
   "cell_type": "code",
   "execution_count": null,
   "metadata": {
    "collapsed": true
   },
   "outputs": [],
   "source": []
  },
  {
   "cell_type": "code",
   "execution_count": null,
   "metadata": {
    "collapsed": true
   },
   "outputs": [],
   "source": []
  }
 ],
 "metadata": {
  "kernelspec": {
   "display_name": "Python 3",
   "language": "python",
   "name": "python3"
  },
  "language_info": {
   "codemirror_mode": {
    "name": "ipython",
    "version": 3
   },
   "file_extension": ".py",
   "mimetype": "text/x-python",
   "name": "python",
   "nbconvert_exporter": "python",
   "pygments_lexer": "ipython3",
   "version": "3.6.3"
  }
 },
 "nbformat": 4,
 "nbformat_minor": 2
}
